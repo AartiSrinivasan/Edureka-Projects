{
 "cells": [
  {
   "cell_type": "code",
   "execution_count": 2,
   "id": "07ff762d",
   "metadata": {},
   "outputs": [
    {
     "name": "stdout",
     "output_type": "stream",
     "text": [
      "Movie Ratings:\n",
      "Enter the movie name (or 'q' to quit): rdx\n",
      "Rate the movie 'rdx' on a scale from 1 to 5 (1=terrible, 5=excellent): 2\n",
      "Add a comment (optional): screenplay was not upto the mark\n",
      "Thank you for rating the movie 'rdx' 2.0 stars with the comment: 'screenplay was not upto the mark'\n",
      "Movie Ratings:\n",
      "Enter the movie name (or 'q' to quit): Jailer\n",
      "Rate the movie 'Jailer' on a scale from 1 to 5 (1=terrible, 5=excellent): 3\n",
      "Add a comment (optional): Expected a lot from the director, Too much of violence\n",
      "Thank you for rating the movie 'Jailer' 3.0 stars with the comment: 'Expected a lot from the director, Too much of violence'\n",
      "Movie Ratings:\n",
      "Enter the movie name (or 'q' to quit): Iraivan\n",
      "Rate the movie 'Iraivan' on a scale from 1 to 5 (1=terrible, 5=excellent): 4\n",
      "Add a comment (optional): Good movie, not for children\n",
      "Thank you for rating the movie 'Iraivan' 4.0 stars with the comment: 'Good movie, not for children'\n",
      "Movie Ratings:\n",
      "Enter the movie name (or 'q' to quit): Jawan\n",
      "Rate the movie 'Jawan' on a scale from 1 to 5 (1=terrible, 5=excellent): 3\n",
      "Add a comment (optional): Story looks like copy of Money heist web series, entire crew can do better\n",
      "Thank you for rating the movie 'Jawan' 3.0 stars with the comment: 'Story looks like copy of Money heist web series, entire crew can do better'\n",
      "Movie Ratings:\n",
      "Enter the movie name (or 'q' to quit): q\n",
      "\n",
      "Movie Ratings:\n",
      "Movie: rdx, Rating: 2.0, Comment: screenplay was not upto the mark\n",
      "Movie: Jailer, Rating: 3.0, Comment: Expected a lot from the director, Too much of violence\n",
      "Movie: Iraivan, Rating: 4.0, Comment: Good movie, not for children\n",
      "Movie: Jawan, Rating: 3.0, Comment: Story looks like copy of Money heist web series, entire crew can do better\n"
     ]
    }
   ],
   "source": [
    "def rate_movie():\n",
    "    movie_ratings = {}  # Dictionary to store movie ratings and comments\n",
    "\n",
    "    while True:\n",
    "        print(\"Movie Ratings:\")\n",
    "        movie_name = input(\"\\nEnter the movie name (or 'q' to quit): \")\n",
    "        \n",
    "        if movie_name.lower() == 'q':\n",
    "            break  # Exit the loop if the user enters 'q'\n",
    "        \n",
    "        rating = float(input(f\"Rate the movie '{movie_name}' on a scale from 1 to 5 (1=terrible, 5=excellent): \"))\n",
    "        comment = input(\"Add a comment (optional): \")\n",
    "\n",
    "        if 1 <= rating <= 5:\n",
    "            movie_ratings[movie_name] = {\"Rating\": rating, \"Comment\": comment}\n",
    "            print(f\"Thank you for rating the movie '{movie_name}' {rating} stars with the comment: '{comment}'\")\n",
    "        else:\n",
    "            print(\"Please enter a valid rating between 1 and 5.\")\n",
    "\n",
    "    # Print the movie ratings and comments\n",
    "    print(\"\\nMovie Ratings:\")\n",
    "    for movie, info in movie_ratings.items():\n",
    "        rating = info[\"Rating\"]\n",
    "        comment = info[\"Comment\"]\n",
    "        print(f\"Movie: {movie}, Rating: {rating}, Comment: {comment if comment else 'No comment'}\")\n",
    "\n",
    "if __name__ == \"__main__\":\n",
    "    rate_movie()"
   ]
  },
  {
   "cell_type": "code",
   "execution_count": null,
   "id": "dd59bd62",
   "metadata": {},
   "outputs": [],
   "source": []
  },
  {
   "cell_type": "code",
   "execution_count": null,
   "id": "0841acc0",
   "metadata": {},
   "outputs": [],
   "source": []
  },
  {
   "cell_type": "code",
   "execution_count": null,
   "id": "877e9051",
   "metadata": {},
   "outputs": [],
   "source": []
  },
  {
   "cell_type": "code",
   "execution_count": null,
   "id": "35cf7346",
   "metadata": {},
   "outputs": [],
   "source": []
  },
  {
   "cell_type": "code",
   "execution_count": null,
   "id": "4c485a5c",
   "metadata": {},
   "outputs": [],
   "source": []
  },
  {
   "cell_type": "code",
   "execution_count": null,
   "id": "3519951c",
   "metadata": {},
   "outputs": [],
   "source": []
  }
 ],
 "metadata": {
  "kernelspec": {
   "display_name": "Python 3 (ipykernel)",
   "language": "python",
   "name": "python3"
  },
  "language_info": {
   "codemirror_mode": {
    "name": "ipython",
    "version": 3
   },
   "file_extension": ".py",
   "mimetype": "text/x-python",
   "name": "python",
   "nbconvert_exporter": "python",
   "pygments_lexer": "ipython3",
   "version": "3.11.3"
  }
 },
 "nbformat": 4,
 "nbformat_minor": 5
}
